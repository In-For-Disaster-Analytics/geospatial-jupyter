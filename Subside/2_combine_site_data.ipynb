{
 "cells": [
  {
   "cell_type": "code",
   "execution_count": 1,
   "id": "5306c805-418b-48b5-998f-f4618fe267ef",
   "metadata": {},
   "outputs": [],
   "source": [
    "import os\n",
    "import pandas as pd"
   ]
  },
  {
   "cell_type": "code",
   "execution_count": 2,
   "id": "06525855-4011-4609-b560-9db24905473b",
   "metadata": {},
   "outputs": [],
   "source": [
    "# Get list of all the data files scrapped from the website\n",
    "directory_path = \"csv_files\"\n",
    "files = [f for f in os.listdir(directory_path) if os.path.isfile(os.path.join(directory_path, f))]\n",
    "\n",
    "# pull out the table that actually has the information for the sites\n",
    "sites_file = 'TABLE1_CompactionSites.csv'\n",
    "files.remove(sites_file)\n",
    "\n",
    "# Read sites into data frame\n",
    "sites = pd.read_csv(os.path.join(directory_path, sites_file))\n",
    "\n",
    "# add column to mathch the site name pulled from the site specific data file (i.e. no spaces)\n",
    "sites['name_condensed'] = sites.apply(lambda x: x['GENERAL_NM'].replace(\" \",\"\"), axis=1)"
   ]
  },
  {
   "cell_type": "code",
   "execution_count": 3,
   "id": "6b61d601-414f-41c4-a980-67f684145a50",
   "metadata": {},
   "outputs": [],
   "source": [
    "sites_names = sites.name_condensed.unique()\n",
    "sites_df = pd.DataFrame(sites_names, columns = ['name'])"
   ]
  },
  {
   "cell_type": "code",
   "execution_count": 5,
   "id": "decc5059-a732-480f-85a7-fd3e209e74af",
   "metadata": {},
   "outputs": [],
   "source": [
    "sites.to_csv('compaction_sites.csv')"
   ]
  },
  {
   "cell_type": "code",
   "execution_count": 55,
   "id": "a8379442-0b27-4fba-9b09-2f93153f7203",
   "metadata": {},
   "outputs": [
    {
     "data": {
      "text/html": [
       "<div>\n",
       "<style scoped>\n",
       "    .dataframe tbody tr th:only-of-type {\n",
       "        vertical-align: middle;\n",
       "    }\n",
       "\n",
       "    .dataframe tbody tr th {\n",
       "        vertical-align: top;\n",
       "    }\n",
       "\n",
       "    .dataframe thead th {\n",
       "        text-align: right;\n",
       "    }\n",
       "</style>\n",
       "<table border=\"1\" class=\"dataframe\">\n",
       "  <thead>\n",
       "    <tr style=\"text-align: right;\">\n",
       "      <th></th>\n",
       "      <th>SITE_NO</th>\n",
       "      <th>STATION_NM</th>\n",
       "      <th>COMPACTION_INTERVAL</th>\n",
       "      <th>ANCHOR_DEPTH</th>\n",
       "      <th>DEC_LONG_VA</th>\n",
       "      <th>DEC_LAT_VA</th>\n",
       "      <th>GENERAL_NM</th>\n",
       "      <th>name_condensed</th>\n",
       "    </tr>\n",
       "  </thead>\n",
       "  <tbody>\n",
       "    <tr>\n",
       "      <th>0</th>\n",
       "      <td>292458094534206</td>\n",
       "      <td>KH-64-33-920 (Texas City Extensometer)</td>\n",
       "      <td>CHICOT</td>\n",
       "      <td>800</td>\n",
       "      <td>-94.8950</td>\n",
       "      <td>29.41630</td>\n",
       "      <td>Texas City</td>\n",
       "      <td>TexasCity</td>\n",
       "    </tr>\n",
       "    <tr>\n",
       "      <th>1</th>\n",
       "      <td>295449095084105</td>\n",
       "      <td>LJ-65-07-909 (Lake Houston Extensometer)</td>\n",
       "      <td>CHICOT AND EVANGELINE</td>\n",
       "      <td>2,592</td>\n",
       "      <td>-95.1455</td>\n",
       "      <td>29.91320</td>\n",
       "      <td>Lake Houston</td>\n",
       "      <td>LakeHouston</td>\n",
       "    </tr>\n",
       "    <tr>\n",
       "      <th>2</th>\n",
       "      <td>294726095351102</td>\n",
       "      <td>LJ-65-12-726 (Addicks Extensometer)</td>\n",
       "      <td>CHICOT AND EVANGELINE</td>\n",
       "      <td>1,802</td>\n",
       "      <td>-95.5861</td>\n",
       "      <td>29.79070</td>\n",
       "      <td>Addicks</td>\n",
       "      <td>Addicks</td>\n",
       "    </tr>\n",
       "    <tr>\n",
       "      <th>3</th>\n",
       "      <td>294728095200106</td>\n",
       "      <td>LJ-65-14-746 (Northeast Extensometer)</td>\n",
       "      <td>CHICOT AND EVANGELINE</td>\n",
       "      <td>2,170</td>\n",
       "      <td>-95.3340</td>\n",
       "      <td>29.79090</td>\n",
       "      <td>Northeast</td>\n",
       "      <td>Northeast</td>\n",
       "    </tr>\n",
       "    <tr>\n",
       "      <th>4</th>\n",
       "      <td>294527095014910</td>\n",
       "      <td>LJ-65-16-930 (Baytown C-1 Extensometer)</td>\n",
       "      <td>CHICOT</td>\n",
       "      <td>431</td>\n",
       "      <td>-95.0307</td>\n",
       "      <td>29.75784</td>\n",
       "      <td>Baytown Shallow</td>\n",
       "      <td>BaytownShallow</td>\n",
       "    </tr>\n",
       "  </tbody>\n",
       "</table>\n",
       "</div>"
      ],
      "text/plain": [
       "           SITE_NO                                STATION_NM  \\\n",
       "0  292458094534206    KH-64-33-920 (Texas City Extensometer)   \n",
       "1  295449095084105  LJ-65-07-909 (Lake Houston Extensometer)   \n",
       "2  294726095351102       LJ-65-12-726 (Addicks Extensometer)   \n",
       "3  294728095200106     LJ-65-14-746 (Northeast Extensometer)   \n",
       "4  294527095014910   LJ-65-16-930 (Baytown C-1 Extensometer)   \n",
       "\n",
       "     COMPACTION_INTERVAL ANCHOR_DEPTH  DEC_LONG_VA  DEC_LAT_VA  \\\n",
       "0                 CHICOT          800     -94.8950    29.41630   \n",
       "1  CHICOT AND EVANGELINE        2,592     -95.1455    29.91320   \n",
       "2  CHICOT AND EVANGELINE        1,802     -95.5861    29.79070   \n",
       "3  CHICOT AND EVANGELINE        2,170     -95.3340    29.79090   \n",
       "4                 CHICOT          431     -95.0307    29.75784   \n",
       "\n",
       "        GENERAL_NM  name_condensed  \n",
       "0       Texas City       TexasCity  \n",
       "1     Lake Houston     LakeHouston  \n",
       "2          Addicks         Addicks  \n",
       "3        Northeast       Northeast  \n",
       "4  Baytown Shallow  BaytownShallow  "
      ]
     },
     "execution_count": 55,
     "metadata": {},
     "output_type": "execute_result"
    }
   ],
   "source": [
    "sites.head()"
   ]
  },
  {
   "cell_type": "code",
   "execution_count": 14,
   "id": "5e775d1b-31c2-4d59-b67b-35d3c83ef19a",
   "metadata": {},
   "outputs": [],
   "source": [
    "# Get master data file of all cumulative compaction for all sites, using site name in 'name_condensed' format as the column for future joining"
   ]
  },
  {
   "cell_type": "code",
   "execution_count": 82,
   "id": "4b2173b5-e244-49c9-bfbe-10f1f5cf91a5",
   "metadata": {},
   "outputs": [
    {
     "name": "stdout",
     "output_type": "stream",
     "text": [
      "error:  TABLE14_BaytownC2_Deep_2023.csv\n",
      "['TABLE14', 'BaytownC2', 'Deep', '2023.csv']\n",
      "error:  TABLE13_BaytownC1_Shallow_2023.csv\n",
      "['TABLE13', 'BaytownC1', 'Shallow', '2023.csv']\n"
     ]
    }
   ],
   "source": [
    "for file in files:\n",
    "    file_info = file.split('_')\n",
    "    if file_info[1] not in sites_names:\n",
    "        print('error: ', file)\n",
    "        print(file_info)"
   ]
  },
  {
   "cell_type": "code",
   "execution_count": 93,
   "id": "90c05f75-50d8-421c-98b3-54cfb57f2bd9",
   "metadata": {},
   "outputs": [
    {
     "name": "stderr",
     "output_type": "stream",
     "text": [
      "/tmp/ipykernel_3118719/1850334796.py:17: FutureWarning: The behavior of DataFrame concatenation with empty or all-NA entries is deprecated. In a future version, this will no longer exclude empty or all-NA columns when determining the result dtypes. To retain the old behavior, exclude the relevant entries before the concat operation.\n",
      "  sites_data = pd.concat([sites_data, df], ignore_index=True)\n"
     ]
    }
   ],
   "source": [
    "name_replace_dict = {\n",
    "    'BaytownC2_Deep': 'BaytownDeep',\n",
    "    'BaytownC1_Shallow': 'BaytownShallow'\n",
    "}\n",
    "sites_data = pd.DataFrame(columns = ['DATE','CUMULATIVE_COMPACTION','site','data_version'])\n",
    "for file in files:\n",
    "    file_info = file\n",
    "    for name in name_replace_dict.keys():\n",
    "        if name in file:\n",
    "            file_info = file_info.replace(name, name_replace_dict[name])         \n",
    "    site_info = file_info.split('_')\n",
    "    site_name = site_info[1]\n",
    "    data_year = site_info[-1].replace('.csv','')\n",
    "    df = pd.read_csv(os.path.join('csv_files',file))\n",
    "    df['site'] = site_name\n",
    "    df['data_version'] = data_year\n",
    "    sites_data = pd.concat([sites_data, df], ignore_index=True)"
   ]
  },
  {
   "cell_type": "code",
   "execution_count": 96,
   "id": "2a2ff210-0a66-49aa-86d3-67d1969cf3d3",
   "metadata": {},
   "outputs": [],
   "source": [
    "sites_data.to_csv('combined_site_data.csv')"
   ]
  },
  {
   "cell_type": "code",
   "execution_count": null,
   "id": "57d640d3-750d-4ba6-87e2-26b08122a201",
   "metadata": {},
   "outputs": [],
   "source": []
  }
 ],
 "metadata": {
  "kernelspec": {
   "display_name": "Python (chm)",
   "language": "python",
   "name": "chm"
  },
  "language_info": {
   "codemirror_mode": {
    "name": "ipython",
    "version": 3
   },
   "file_extension": ".py",
   "mimetype": "text/x-python",
   "name": "python",
   "nbconvert_exporter": "python",
   "pygments_lexer": "ipython3",
   "version": "3.13.3"
  }
 },
 "nbformat": 4,
 "nbformat_minor": 5
}
