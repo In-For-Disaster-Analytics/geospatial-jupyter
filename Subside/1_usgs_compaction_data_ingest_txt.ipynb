{
 "cells": [
  {
   "cell_type": "code",
   "execution_count": 49,
   "id": "90bc4009-0464-4e09-8df2-eb6be8f9e399",
   "metadata": {},
   "outputs": [],
   "source": [
    "import os\n",
    "import requests\n",
    "from bs4 import BeautifulSoup"
   ]
  },
  {
   "cell_type": "code",
   "execution_count": 38,
   "id": "e18f99a2-a97a-4661-9b42-95c8540acc9b",
   "metadata": {},
   "outputs": [],
   "source": [
    "from urllib.request import urlretrieve"
   ]
  },
  {
   "cell_type": "code",
   "execution_count": 52,
   "id": "9ed93606-6089-46db-85f4-ec70dabcb77f",
   "metadata": {},
   "outputs": [],
   "source": [
    "import pandas as pd"
   ]
  },
  {
   "cell_type": "markdown",
   "id": "348be329-39cc-4d35-8f5f-3cda30a2f6ac",
   "metadata": {},
   "source": [
    "USGS data source: https://www.sciencebase.gov/catalog/item/5cd30a76e4b09b8c0b7a5cb3"
   ]
  },
  {
   "cell_type": "code",
   "execution_count": 3,
   "id": "ab53273d-a916-4fac-95ee-d6fac3eb3bad",
   "metadata": {},
   "outputs": [],
   "source": [
    "url = 'https://www.sciencebase.gov/catalog/item/5cd30a76e4b09b8c0b7a5cb3'"
   ]
  },
  {
   "cell_type": "code",
   "execution_count": 12,
   "id": "b0c040ed-f5ba-4040-aa15-bf5cbbe4f5a0",
   "metadata": {},
   "outputs": [],
   "source": [
    "# Get file links\n",
    "url = 'https://www.sciencebase.gov/catalog/item/5cd30a76e4b09b8c0b7a5cb3'\n",
    "\n",
    "try:\n",
    "    # Send a GET request to the website\n",
    "    response = requests.get(url)\n",
    "    response.raise_for_status()  # Check for HTTP request errors\n",
    "\n",
    "    # Parse the HTML content\n",
    "    soup = BeautifulSoup(response.text, 'html.parser')\n",
    "    table_div = soup.find_all('div', class_=\"table-responsive\")\n",
    "\n",
    "except requests.exceptions.RequestException as e:\n",
    "    print(f\"Error fetching the website: {e}\")"
   ]
  },
  {
   "cell_type": "code",
   "execution_count": 21,
   "id": "b8d45bcd-151b-4bb8-a9b7-918253a7ed35",
   "metadata": {},
   "outputs": [],
   "source": [
    "for table in table_div:\n",
    "    table.find_all(class_='sb-download-link')"
   ]
  },
  {
   "cell_type": "code",
   "execution_count": 22,
   "id": "174c004a-a205-4065-aea7-516a73d9ce0f",
   "metadata": {},
   "outputs": [
    {
     "data": {
      "text/plain": [
       "[]"
      ]
     },
     "execution_count": 22,
     "metadata": {},
     "output_type": "execute_result"
    }
   ],
   "source": [
    "data_spans"
   ]
  },
  {
   "cell_type": "code",
   "execution_count": 48,
   "id": "81e0f0ae-50aa-4b87-8e26-6b9701308bc6",
   "metadata": {},
   "outputs": [],
   "source": [
    "for span in table_div[0].find_all('span', class_=\"sb-file-get\"):\n",
    "    file_url = 'https://www.sciencebase.gov'+span.get('data-url')\n",
    "    filename = 'data_files/'+span.text\n",
    "    urlretrieve(file_url, filename)"
   ]
  },
  {
   "cell_type": "code",
   "execution_count": 50,
   "id": "1e2d38aa-3db9-4333-b1c9-dee12a2ad90c",
   "metadata": {},
   "outputs": [
    {
     "name": "stdout",
     "output_type": "stream",
     "text": [
      "['TABLE15_FortBend_CincoMUD_2023.txt', 'TABLE1_CompactionSites.txt', 'TABLE4_Southwest_2023.txt', 'Cumulative_Compaction_Data_2023.xml', 'TABLE14_BaytownC2_Deep_2023.txt', 'TABLE11_ClearLakeShallow_2023.txt', 'TABLE10_EastEnd_2023.txt', 'TABLE8_LakeHouston_2023.txt', 'TABLE12_ClearLakeDeep_2023.txt', 'TABLE5_Seabrook_2023.txt', 'TABLE6_Pasadena_2023.txt', 'Version_History_for_Cumulative_Compaction_Data.txt', 'TABLE3_TexasCity_2023.txt', 'TABLE2_Addicks_2023.txt', 'TABLE13_BaytownC1_Shallow_2023.txt', 'TABLE7_Northeast_2023.txt', 'TABLE9_JohnsonSpaceCenter_NASA_2023.txt']\n"
     ]
    }
   ],
   "source": [
    "# List all files in the directory\n",
    "directory_path = \"data_files\"\n",
    "files = [f for f in os.listdir(directory_path) if os.path.isfile(os.path.join(directory_path, f))]\n",
    "print(files)"
   ]
  },
  {
   "cell_type": "code",
   "execution_count": 82,
   "id": "c4d45579-fd34-42ef-8053-c698bc24a583",
   "metadata": {},
   "outputs": [
    {
     "name": "stderr",
     "output_type": "stream",
     "text": [
      "/tmp/ipykernel_2051780/1001436775.py:11: FutureWarning: The 'delim_whitespace' keyword in pd.read_csv is deprecated and will be removed in a future version. Use ``sep='\\s+'`` instead\n",
      "  df=pd.read_csv(file_path, delim_whitespace=True)\n",
      "/tmp/ipykernel_2051780/1001436775.py:11: FutureWarning: The 'delim_whitespace' keyword in pd.read_csv is deprecated and will be removed in a future version. Use ``sep='\\s+'`` instead\n",
      "  df=pd.read_csv(file_path, delim_whitespace=True)\n",
      "/tmp/ipykernel_2051780/1001436775.py:11: FutureWarning: The 'delim_whitespace' keyword in pd.read_csv is deprecated and will be removed in a future version. Use ``sep='\\s+'`` instead\n",
      "  df=pd.read_csv(file_path, delim_whitespace=True)\n",
      "/tmp/ipykernel_2051780/1001436775.py:11: FutureWarning: The 'delim_whitespace' keyword in pd.read_csv is deprecated and will be removed in a future version. Use ``sep='\\s+'`` instead\n",
      "  df=pd.read_csv(file_path, delim_whitespace=True)\n"
     ]
    }
   ],
   "source": [
    "for file in files:\n",
    "    if 'TABLE' in file:\n",
    "        file_csv = file.replace('.txt','.csv')\n",
    "        file_path = os.path.join('data_files', file)\n",
    "        df = pd.DataFrame\n",
    "        try:\n",
    "            df=pd.read_csv(file_path, sep='\\t')\n",
    "            df.to_csv(file_csv, index=False)\n",
    "        except:\n",
    "            try:\n",
    "                df=pd.read_csv(file_path, delim_whitespace=True)\n",
    "                df.to_csv(file_csv, index=False)\n",
    "            except:\n",
    "                print('error with: ', file)\n",
    "        "
   ]
  },
  {
   "cell_type": "code",
   "execution_count": 78,
   "id": "750d93a8-f5b2-4087-b63d-65ba82a21b03",
   "metadata": {},
   "outputs": [
    {
     "data": {
      "text/plain": [
       "dict_keys(['TABLE15_FortBend_CincoMUD_2023.txt', 'TABLE1_CompactionSites.txt', 'TABLE4_Southwest_2023.txt', 'TABLE14_BaytownC2_Deep_2023.txt', 'TABLE11_ClearLakeShallow_2023.txt', 'TABLE10_EastEnd_2023.txt', 'TABLE8_LakeHouston_2023.txt', 'TABLE12_ClearLakeDeep_2023.txt', 'TABLE5_Seabrook_2023.txt', 'TABLE6_Pasadena_2023.txt', 'TABLE3_TexasCity_2023.txt', 'TABLE2_Addicks_2023.txt', 'TABLE13_BaytownC1_Shallow_2023.txt', 'TABLE7_Northeast_2023.txt', 'TABLE9_JohnsonSpaceCenter_NASA_2023.txt'])"
      ]
     },
     "execution_count": 78,
     "metadata": {},
     "output_type": "execute_result"
    }
   ],
   "source": [
    "tables_data.keys()"
   ]
  },
  {
   "cell_type": "code",
   "execution_count": 80,
   "id": "52342a5f-9ba4-4ee3-8e0b-f64ec691afa3",
   "metadata": {},
   "outputs": [
    {
     "name": "stdout",
     "output_type": "stream",
     "text": [
      "        DATE  CUMULATIVE_COMPACTION\n",
      "0  1/13/2017                  0.000\n",
      "1  2/22/2017                 -0.009\n",
      "           SITE_NO                                STATION_NM  \\\n",
      "0  292458094534206    KH-64-33-920 (Texas City Extensometer)   \n",
      "1  295449095084105  LJ-65-07-909 (Lake Houston Extensometer)   \n",
      "\n",
      "     COMPACTION_INTERVAL ANCHOR_DEPTH  DEC_LONG_VA  DEC_LAT_VA    GENERAL_NM  \n",
      "0                 CHICOT          800     -94.8950     29.4163    Texas City  \n",
      "1  CHICOT AND EVANGELINE        2,592     -95.1455     29.9132  Lake Houston  \n",
      "        DATE  CUMULATIVE_COMPACTION\n",
      "0  6/17/1980                  0.000\n",
      "1  6/24/1980                  0.003\n",
      "        DATE  CUMULATIVE_COMPACTION\n",
      "0  7/24/1973                  0.000\n",
      "1  8/13/1973                  0.008\n",
      "        DATE  CUMULATIVE_COMPACTION\n",
      "0  5/26/1976                  0.000\n",
      "1  6/21/1976                  0.001\n",
      "        DATE  CUMULATIVE_COMPACTION\n",
      "0  7/20/1973                  0.000\n",
      "1  7/25/1973                  0.002\n",
      "        DATE  CUMULATIVE_COMPACTION\n",
      "0  7/22/1980                  0.000\n",
      "1  8/19/1980                  0.008\n",
      "        DATE  CUMULATIVE_COMPACTION\n",
      "0  5/26/1976                  0.000\n",
      "1   6/9/1976                  0.004\n",
      "        DATE  CUMULATIVE_COMPACTION\n",
      "0  7/20/1973                  0.000\n",
      "1  7/24/1973                  0.002\n",
      "         DATE  CUMULATIVE_COMPACTION\n",
      "0   10/8/1975                   0.00\n",
      "1  10/20/1975                   0.01\n",
      "        DATE  CUMULATIVE_COMPACTION\n",
      "0  7/13/1973                  0.000\n",
      "1  8/13/1973                  0.007\n",
      "        DATE  CUMULATIVE_COMPACTION\n",
      "0  7/11/1974                  0.000\n",
      "1  7/24/1974                  0.004\n",
      "        DATE  CUMULATIVE_COMPACTION\n",
      "0  7/24/1973                  0.000\n",
      "1  8/13/1973                  0.002\n",
      "        DATE  CUMULATIVE_COMPACTION\n",
      "0  6/24/1980                  0.000\n",
      "1  7/22/1980                  0.007\n",
      "        DATE  CUMULATIVE_COMPACTION\n",
      "0  7/24/1973                  1.347\n",
      "1  8/24/1973                  1.357\n"
     ]
    }
   ],
   "source": [
    "for table in tables_data.keys():\n",
    "    print(tables_data[table].head(2))"
   ]
  },
  {
   "cell_type": "code",
   "execution_count": null,
   "id": "79c4ceee-c095-4d22-a0ad-ce7431e796e8",
   "metadata": {},
   "outputs": [],
   "source": []
  }
 ],
 "metadata": {
  "kernelspec": {
   "display_name": "Python (chm)",
   "language": "python",
   "name": "chm"
  },
  "language_info": {
   "codemirror_mode": {
    "name": "ipython",
    "version": 3
   },
   "file_extension": ".py",
   "mimetype": "text/x-python",
   "name": "python",
   "nbconvert_exporter": "python",
   "pygments_lexer": "ipython3",
   "version": "3.13.3"
  }
 },
 "nbformat": 4,
 "nbformat_minor": 5
}
