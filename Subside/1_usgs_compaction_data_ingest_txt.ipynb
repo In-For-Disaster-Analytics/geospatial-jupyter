{
 "cells": [
  {
   "cell_type": "code",
   "execution_count": 1,
   "id": "90bc4009-0464-4e09-8df2-eb6be8f9e399",
   "metadata": {},
   "outputs": [],
   "source": [
    "import os\n",
    "import requests\n",
    "from bs4 import BeautifulSoup"
   ]
  },
  {
   "cell_type": "code",
   "execution_count": 2,
   "id": "e18f99a2-a97a-4661-9b42-95c8540acc9b",
   "metadata": {},
   "outputs": [],
   "source": [
    "from urllib.request import urlretrieve"
   ]
  },
  {
   "cell_type": "code",
   "execution_count": 3,
   "id": "9ed93606-6089-46db-85f4-ec70dabcb77f",
   "metadata": {},
   "outputs": [],
   "source": [
    "import pandas as pd"
   ]
  },
  {
   "cell_type": "markdown",
   "id": "348be329-39cc-4d35-8f5f-3cda30a2f6ac",
   "metadata": {},
   "source": [
    "USGS data source: https://www.sciencebase.gov/catalog/item/5cd30a76e4b09b8c0b7a5cb3"
   ]
  },
  {
   "cell_type": "code",
   "execution_count": 4,
   "id": "ab53273d-a916-4fac-95ee-d6fac3eb3bad",
   "metadata": {},
   "outputs": [],
   "source": [
    "url = 'https://www.sciencebase.gov/catalog/item/5cd30a76e4b09b8c0b7a5cb3'"
   ]
  },
  {
   "cell_type": "code",
   "execution_count": 5,
   "id": "b0c040ed-f5ba-4040-aa15-bf5cbbe4f5a0",
   "metadata": {},
   "outputs": [],
   "source": [
    "# Get file links\n",
    "url = 'https://www.sciencebase.gov/catalog/item/5cd30a76e4b09b8c0b7a5cb3'\n",
    "\n",
    "try:\n",
    "    # Send a GET request to the website\n",
    "    response = requests.get(url)\n",
    "    response.raise_for_status()  # Check for HTTP request errors\n",
    "\n",
    "    # Parse the HTML content\n",
    "    soup = BeautifulSoup(response.text, 'html.parser')\n",
    "    table_div = soup.find_all('div', class_=\"table-responsive\")\n",
    "\n",
    "except requests.exceptions.RequestException as e:\n",
    "    print(f\"Error fetching the website: {e}\")"
   ]
  },
  {
   "cell_type": "code",
   "execution_count": 6,
   "id": "b8d45bcd-151b-4bb8-a9b7-918253a7ed35",
   "metadata": {},
   "outputs": [],
   "source": [
    "for table in table_div:\n",
    "    table.find_all(class_='sb-download-link')"
   ]
  },
  {
   "cell_type": "code",
   "execution_count": 8,
   "id": "192abf88-856b-45ee-bba6-c15efca99d36",
   "metadata": {},
   "outputs": [],
   "source": [
    "# Create storage directories if they don't exist:\n",
    "if not os.path.exists('data_files'):\n",
    "    os.makedirs('data_files')\n",
    "\n",
    "if not os.path.exists('csv_files'):\n",
    "    os.makedirs('csv_files')"
   ]
  },
  {
   "cell_type": "code",
   "execution_count": 9,
   "id": "81e0f0ae-50aa-4b87-8e26-6b9701308bc6",
   "metadata": {},
   "outputs": [],
   "source": [
    "for span in table_div[0].find_all('span', class_=\"sb-file-get\"):\n",
    "    file_url = 'https://www.sciencebase.gov'+span.get('data-url')\n",
    "    filename = 'data_files/'+span.text\n",
    "    urlretrieve(file_url, filename)"
   ]
  },
  {
   "cell_type": "code",
   "execution_count": 10,
   "id": "1e2d38aa-3db9-4333-b1c9-dee12a2ad90c",
   "metadata": {},
   "outputs": [
    {
     "name": "stdout",
     "output_type": "stream",
     "text": [
      "['TABLE15_FortBend_CincoMUD_2023.txt', 'TABLE1_CompactionSites.txt', 'TABLE4_Southwest_2023.txt', 'Cumulative_Compaction_Data_2023.xml', 'TABLE14_BaytownC2_Deep_2023.txt', 'TABLE11_ClearLakeShallow_2023.txt', 'TABLE10_EastEnd_2023.txt', 'TABLE8_LakeHouston_2023.txt', 'TABLE12_ClearLakeDeep_2023.txt', 'TABLE5_Seabrook_2023.txt', 'TABLE6_Pasadena_2023.txt', 'Version_History_for_Cumulative_Compaction_Data.txt', 'TABLE3_TexasCity_2023.txt', 'TABLE2_Addicks_2023.txt', 'TABLE13_BaytownC1_Shallow_2023.txt', 'TABLE7_Northeast_2023.txt', 'TABLE9_JohnsonSpaceCenter_NASA_2023.txt']\n"
     ]
    }
   ],
   "source": [
    "# List all files in the directory\n",
    "directory_path = \"data_files\"\n",
    "files = [f for f in os.listdir(directory_path) if os.path.isfile(os.path.join(directory_path, f))]\n",
    "print(files)"
   ]
  },
  {
   "cell_type": "code",
   "execution_count": 11,
   "id": "c4d45579-fd34-42ef-8053-c698bc24a583",
   "metadata": {},
   "outputs": [
    {
     "name": "stderr",
     "output_type": "stream",
     "text": [
      "/tmp/ipykernel_3574805/731267595.py:12: FutureWarning: The 'delim_whitespace' keyword in pd.read_csv is deprecated and will be removed in a future version. Use ``sep='\\s+'`` instead\n",
      "  df=pd.read_csv(file_path, delim_whitespace=True)\n",
      "/tmp/ipykernel_3574805/731267595.py:12: FutureWarning: The 'delim_whitespace' keyword in pd.read_csv is deprecated and will be removed in a future version. Use ``sep='\\s+'`` instead\n",
      "  df=pd.read_csv(file_path, delim_whitespace=True)\n",
      "/tmp/ipykernel_3574805/731267595.py:12: FutureWarning: The 'delim_whitespace' keyword in pd.read_csv is deprecated and will be removed in a future version. Use ``sep='\\s+'`` instead\n",
      "  df=pd.read_csv(file_path, delim_whitespace=True)\n",
      "/tmp/ipykernel_3574805/731267595.py:12: FutureWarning: The 'delim_whitespace' keyword in pd.read_csv is deprecated and will be removed in a future version. Use ``sep='\\s+'`` instead\n",
      "  df=pd.read_csv(file_path, delim_whitespace=True)\n"
     ]
    }
   ],
   "source": [
    "for file in files:\n",
    "    if 'TABLE' in file:\n",
    "        file_csv = file.replace('.txt','.csv')\n",
    "        file_path = os.path.join('data_files', file)\n",
    "        csv_path = os.path.join('csv_files', file_csv)\n",
    "        df = pd.DataFrame\n",
    "        try:\n",
    "            df=pd.read_csv(file_path, sep='\\t')\n",
    "            df.to_csv(csv_path, index=False)\n",
    "        except:\n",
    "            try:\n",
    "                df=pd.read_csv(file_path, delim_whitespace=True)\n",
    "                df.to_csv(csv_path, index=False)\n",
    "            except:\n",
    "                print('error with: ', file)\n",
    "        "
   ]
  },
  {
   "cell_type": "code",
   "execution_count": null,
   "id": "79c4ceee-c095-4d22-a0ad-ce7431e796e8",
   "metadata": {},
   "outputs": [],
   "source": []
  }
 ],
 "metadata": {
  "kernelspec": {
   "display_name": "Python (chm)",
   "language": "python",
   "name": "chm"
  },
  "language_info": {
   "codemirror_mode": {
    "name": "ipython",
    "version": 3
   },
   "file_extension": ".py",
   "mimetype": "text/x-python",
   "name": "python",
   "nbconvert_exporter": "python",
   "pygments_lexer": "ipython3",
   "version": "3.13.3"
  }
 },
 "nbformat": 4,
 "nbformat_minor": 5
}
